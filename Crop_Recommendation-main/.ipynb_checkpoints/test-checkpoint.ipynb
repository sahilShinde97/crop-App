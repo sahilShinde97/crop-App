{
 "cells": [
  {
   "cell_type": "code",
   "execution_count": 2,
   "metadata": {},
   "outputs": [],
   "source": [
    "import json\n",
    "import pickle\n",
    "import os"
   ]
  },
  {
   "cell_type": "code",
   "execution_count": 3,
   "metadata": {},
   "outputs": [],
   "source": [
    "def load_models():\n",
    "        \"\"\"\n",
    "        Loads models from the specified in the CONIFG file\n",
    "        :Input\n",
    "            model_path - string denotingpath to load models from\n",
    "\n",
    "        :Returns:\n",
    "            models - a dictionary containing loaded models\n",
    "        \"\"\"\n",
    "        print('****Loading Models****')\n",
    "        models = {}\n",
    "        print(os.getcwd())\n",
    "        with open('CONFIG.json') as f:\n",
    "            config = json.load(f)\n",
    "\n",
    "        model_file_paths = os.listdir(config[\"model_folder\"])\n",
    "        print(model_file_paths)\n",
    "        for file in model_file_paths:\n",
    "            with open(config[\"model_folder\"] + file, 'rb') as File:\n",
    "                models[file] = pickle.load(File)\n",
    "        print('****Loaded****')\n",
    "        #print(models)\n",
    "        return models"
   ]
  },
  {
   "cell_type": "code",
   "execution_count": 4,
   "metadata": {},
   "outputs": [
    {
     "name": "stdout",
     "output_type": "stream",
     "text": [
      "****Loading Models****\n",
      "d:\\Crop_Recommendation-main\\Crop_Recommendation-main\n",
      "['AdaBoostClassifier.pkl', 'DecisionTreeClassifier.pkl', 'ExtraTreesClassifier.pkl', 'GaussianNB.pkl', 'GradientBoostingClassifier.pkl', 'KNeighborsClassifier.pkl', 'LogisticRegression.pkl', 'RandomForestClassifier.pkl', 'SupportVectorClassifier.pkl']\n",
      "****Loaded****\n"
     ]
    }
   ],
   "source": [
    "models = load_models()"
   ]
  },
  {
   "cell_type": "code",
   "execution_count": 5,
   "metadata": {},
   "outputs": [
    {
     "name": "stderr",
     "output_type": "stream",
     "text": [
      "c:\\Users\\pramod\\AppData\\Local\\Programs\\Python\\Python311\\Lib\\site-packages\\sklearn\\base.py:450: UserWarning: X does not have valid feature names, but DecisionTreeClassifier was fitted with feature names\n",
      "  warnings.warn(\n"
     ]
    },
    {
     "data": {
      "text/plain": [
       "array(['rice'], dtype=object)"
      ]
     },
     "execution_count": 5,
     "metadata": {},
     "output_type": "execute_result"
    }
   ],
   "source": [
    "import numpy as np\n",
    "models['DecisionTreeClassifier.pkl'].predict(np.array([90,42,43,20.87974371,82.00274423,6.502985292000001,202.9355362]).reshape(1, -1))"
   ]
  }
 ],
 "metadata": {
  "kernelspec": {
   "display_name": "Python 3.11.0 64-bit",
   "language": "python",
   "name": "python3"
  },
  "language_info": {
   "codemirror_mode": {
    "name": "ipython",
    "version": 3
   },
   "file_extension": ".py",
   "mimetype": "text/x-python",
   "name": "python",
   "nbconvert_exporter": "python",
   "pygments_lexer": "ipython3",
   "version": "3.11.0"
  },
  "vscode": {
   "interpreter": {
    "hash": "6c7f4e412a8ccef7d865fe27d0bfad7655e71d22b27c964d09452e0f71739cb7"
   }
  }
 },
 "nbformat": 4,
 "nbformat_minor": 4
}
